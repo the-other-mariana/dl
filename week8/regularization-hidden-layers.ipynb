{
  "nbformat": 4,
  "nbformat_minor": 0,
  "metadata": {
    "colab": {
      "name": "Copia de RegularizationHiddenLayers.ipynb",
      "provenance": [],
      "collapsed_sections": []
    },
    "kernelspec": {
      "name": "python3",
      "display_name": "Python 3"
    },
    "language_info": {
      "name": "python"
    }
  },
  "cells": [
    {
      "cell_type": "markdown",
      "metadata": {
        "id": "wcHDEJqUCK4Z"
      },
      "source": [
        "\n",
        "LIBRERIAS\n",
        "\n"
      ]
    },
    {
      "cell_type": "code",
      "metadata": {
        "id": "MZasJkWzCJsc"
      },
      "source": [
        "from pandas import read_csv\n",
        "from keras.models import Sequential\n",
        "from keras.layers import Dense # dense is all neurons connected to all next layer neurons\n",
        "from keras.layers import Dropout\n",
        "from keras.wrappers.scikit_learn import KerasClassifier\n",
        "from keras.constraints import maxnorm\n",
        "#from keras.optimizers import sgd_experimental\n",
        "from sklearn.model_selection import cross_val_score\n",
        "from sklearn.preprocessing import LabelEncoder\n",
        "from sklearn.model_selection import StratifiedKFold\n",
        "from sklearn.preprocessing import StandardScaler\n",
        "from sklearn.pipeline import Pipeline\n",
        "from google.colab import drive\n"
      ],
      "execution_count": null,
      "outputs": []
    },
    {
      "cell_type": "markdown",
      "metadata": {
        "id": "RFyBpqJWCUgf"
      },
      "source": [
        "CARGANDO DATOS"
      ]
    },
    {
      "cell_type": "code",
      "metadata": {
        "colab": {
          "base_uri": "https://localhost:8080/"
        },
        "id": "EVeLL8CaCZKZ",
        "outputId": "91aedd9b-7057-493e-e4ae-0fdc6528f1c0"
      },
      "source": [
        "# Mount Drive\n",
        "drive.mount('/content/drive')\n",
        "\n",
        "# load dataset\n",
        "dataframe = read_csv(\"/content/drive/MyDrive//Colab Notebooks/dataset/sonar.csv\", header=None)\n",
        "dataset = dataframe.values\n",
        "# split into input (X) and output (Y) variables\n",
        "X = dataset[:,0:60].astype(float)\n",
        "Y = dataset[:,60]\n",
        "# encode class values as integers\n",
        "encoder = LabelEncoder()\n",
        "encoder.fit(Y)\n",
        "encoded_Y = encoder.transform(Y)"
      ],
      "execution_count": null,
      "outputs": [
        {
          "output_type": "stream",
          "name": "stdout",
          "text": [
            "Drive already mounted at /content/drive; to attempt to forcibly remount, call drive.mount(\"/content/drive\", force_remount=True).\n"
          ]
        }
      ]
    },
    {
      "cell_type": "markdown",
      "metadata": {
        "id": "tlt5BA2EDhjP"
      },
      "source": [
        "DEFINIENDO EL MODELO"
      ]
    },
    {
      "cell_type": "code",
      "metadata": {
        "id": "QFoY_jlWDkMP"
      },
      "source": [
        "# defining model with coinstraint weigths and dropout percentage (0.2-0.5)\n",
        "def create_model():\n",
        "# create model\n",
        "  model = Sequential()\n",
        "#  model.add(Dropout(0.2))\n",
        "  # first layer 60 neurons (60 inputs 60 neurons)\n",
        "  model.add(Dense(60, input_dim=60, activation='relu', kernel_constraint=maxnorm(3))) # maxnorm = 3, c = 3 then (lagrange constraint)\n",
        "  model.add(Dropout(0.2)) # dropout is the pruning for each layer\n",
        "  # second layer 30 neurons\n",
        "  model.add(Dense(30, activation='sigmoid', kernel_constraint=maxnorm(3)))\n",
        "  model.add(Dropout(0.33))\n",
        "  # out layer 1 neuron\n",
        "  model.add(Dense(1, activation='sigmoid'))\n",
        "  # Compile model\n",
        "  #sgd = SGD(lr=0.1, momentum=0.9)\n",
        " # model.compile(loss='binary_crossentropy', optimizer=sgd, metrics=['accuracy'])\n",
        "  model.compile(loss='binary_crossentropy', metrics=['accuracy'])\n",
        "  model.summary() # see intermediate output\n",
        "  return model"
      ],
      "execution_count": null,
      "outputs": []
    },
    {
      "cell_type": "markdown",
      "metadata": {
        "id": "M-HuCs8MD45G"
      },
      "source": [
        "RESULTADOS"
      ]
    },
    {
      "cell_type": "code",
      "metadata": {
        "colab": {
          "base_uri": "https://localhost:8080/"
        },
        "id": "dyAFRlw4D6gV",
        "outputId": "b803589f-8142-446f-af2d-25a88f82cc4f"
      },
      "source": [
        "estimators = []\n",
        "estimators.append(('standardize', StandardScaler()))\n",
        "estimators.append(('mlp', KerasClassifier(build_fn=create_model, epochs=30, batch_size=16,\n",
        "verbose=0)))\n",
        "pipeline = Pipeline(estimators)\n",
        "kfold = StratifiedKFold(n_splits=10, shuffle=True)\n",
        "results = cross_val_score(pipeline, X, encoded_Y, cv=kfold)\n",
        "print(\"Hidden: %.2f%% (%.2f%%)\" % (results.mean()*100, results.std()*100)) # accuracy"
      ],
      "execution_count": null,
      "outputs": [
        {
          "output_type": "stream",
          "name": "stdout",
          "text": [
            "Model: \"sequential_60\"\n",
            "_________________________________________________________________\n",
            " Layer (type)                Output Shape              Param #   \n",
            "=================================================================\n",
            " dense_180 (Dense)           (None, 60)                3660      \n",
            "                                                                 \n",
            " dropout_120 (Dropout)       (None, 60)                0         \n",
            "                                                                 \n",
            " dense_181 (Dense)           (None, 30)                1830      \n",
            "                                                                 \n",
            " dropout_121 (Dropout)       (None, 30)                0         \n",
            "                                                                 \n",
            " dense_182 (Dense)           (None, 1)                 31        \n",
            "                                                                 \n",
            "=================================================================\n",
            "Total params: 5,521\n",
            "Trainable params: 5,521\n",
            "Non-trainable params: 0\n",
            "_________________________________________________________________\n"
          ]
        },
        {
          "output_type": "stream",
          "name": "stderr",
          "text": [
            "/usr/local/lib/python3.7/dist-packages/ipykernel_launcher.py:4: DeprecationWarning: KerasClassifier is deprecated, use Sci-Keras (https://github.com/adriangb/scikeras) instead. See https://www.adriangb.com/scikeras/stable/migration.html for help migrating.\n",
            "  after removing the cwd from sys.path.\n"
          ]
        },
        {
          "output_type": "stream",
          "name": "stdout",
          "text": [
            "Model: \"sequential_61\"\n",
            "_________________________________________________________________\n",
            " Layer (type)                Output Shape              Param #   \n",
            "=================================================================\n",
            " dense_183 (Dense)           (None, 60)                3660      \n",
            "                                                                 \n",
            " dropout_122 (Dropout)       (None, 60)                0         \n",
            "                                                                 \n",
            " dense_184 (Dense)           (None, 30)                1830      \n",
            "                                                                 \n",
            " dropout_123 (Dropout)       (None, 30)                0         \n",
            "                                                                 \n",
            " dense_185 (Dense)           (None, 1)                 31        \n",
            "                                                                 \n",
            "=================================================================\n",
            "Total params: 5,521\n",
            "Trainable params: 5,521\n",
            "Non-trainable params: 0\n",
            "_________________________________________________________________\n",
            "Model: \"sequential_62\"\n",
            "_________________________________________________________________\n",
            " Layer (type)                Output Shape              Param #   \n",
            "=================================================================\n",
            " dense_186 (Dense)           (None, 60)                3660      \n",
            "                                                                 \n",
            " dropout_124 (Dropout)       (None, 60)                0         \n",
            "                                                                 \n",
            " dense_187 (Dense)           (None, 30)                1830      \n",
            "                                                                 \n",
            " dropout_125 (Dropout)       (None, 30)                0         \n",
            "                                                                 \n",
            " dense_188 (Dense)           (None, 1)                 31        \n",
            "                                                                 \n",
            "=================================================================\n",
            "Total params: 5,521\n",
            "Trainable params: 5,521\n",
            "Non-trainable params: 0\n",
            "_________________________________________________________________\n",
            "Model: \"sequential_63\"\n",
            "_________________________________________________________________\n",
            " Layer (type)                Output Shape              Param #   \n",
            "=================================================================\n",
            " dense_189 (Dense)           (None, 60)                3660      \n",
            "                                                                 \n",
            " dropout_126 (Dropout)       (None, 60)                0         \n",
            "                                                                 \n",
            " dense_190 (Dense)           (None, 30)                1830      \n",
            "                                                                 \n",
            " dropout_127 (Dropout)       (None, 30)                0         \n",
            "                                                                 \n",
            " dense_191 (Dense)           (None, 1)                 31        \n",
            "                                                                 \n",
            "=================================================================\n",
            "Total params: 5,521\n",
            "Trainable params: 5,521\n",
            "Non-trainable params: 0\n",
            "_________________________________________________________________\n",
            "Model: \"sequential_64\"\n",
            "_________________________________________________________________\n",
            " Layer (type)                Output Shape              Param #   \n",
            "=================================================================\n",
            " dense_192 (Dense)           (None, 60)                3660      \n",
            "                                                                 \n",
            " dropout_128 (Dropout)       (None, 60)                0         \n",
            "                                                                 \n",
            " dense_193 (Dense)           (None, 30)                1830      \n",
            "                                                                 \n",
            " dropout_129 (Dropout)       (None, 30)                0         \n",
            "                                                                 \n",
            " dense_194 (Dense)           (None, 1)                 31        \n",
            "                                                                 \n",
            "=================================================================\n",
            "Total params: 5,521\n",
            "Trainable params: 5,521\n",
            "Non-trainable params: 0\n",
            "_________________________________________________________________\n",
            "Model: \"sequential_65\"\n",
            "_________________________________________________________________\n",
            " Layer (type)                Output Shape              Param #   \n",
            "=================================================================\n",
            " dense_195 (Dense)           (None, 60)                3660      \n",
            "                                                                 \n",
            " dropout_130 (Dropout)       (None, 60)                0         \n",
            "                                                                 \n",
            " dense_196 (Dense)           (None, 30)                1830      \n",
            "                                                                 \n",
            " dropout_131 (Dropout)       (None, 30)                0         \n",
            "                                                                 \n",
            " dense_197 (Dense)           (None, 1)                 31        \n",
            "                                                                 \n",
            "=================================================================\n",
            "Total params: 5,521\n",
            "Trainable params: 5,521\n",
            "Non-trainable params: 0\n",
            "_________________________________________________________________\n",
            "Model: \"sequential_66\"\n",
            "_________________________________________________________________\n",
            " Layer (type)                Output Shape              Param #   \n",
            "=================================================================\n",
            " dense_198 (Dense)           (None, 60)                3660      \n",
            "                                                                 \n",
            " dropout_132 (Dropout)       (None, 60)                0         \n",
            "                                                                 \n",
            " dense_199 (Dense)           (None, 30)                1830      \n",
            "                                                                 \n",
            " dropout_133 (Dropout)       (None, 30)                0         \n",
            "                                                                 \n",
            " dense_200 (Dense)           (None, 1)                 31        \n",
            "                                                                 \n",
            "=================================================================\n",
            "Total params: 5,521\n",
            "Trainable params: 5,521\n",
            "Non-trainable params: 0\n",
            "_________________________________________________________________\n",
            "Model: \"sequential_67\"\n",
            "_________________________________________________________________\n",
            " Layer (type)                Output Shape              Param #   \n",
            "=================================================================\n",
            " dense_201 (Dense)           (None, 60)                3660      \n",
            "                                                                 \n",
            " dropout_134 (Dropout)       (None, 60)                0         \n",
            "                                                                 \n",
            " dense_202 (Dense)           (None, 30)                1830      \n",
            "                                                                 \n",
            " dropout_135 (Dropout)       (None, 30)                0         \n",
            "                                                                 \n",
            " dense_203 (Dense)           (None, 1)                 31        \n",
            "                                                                 \n",
            "=================================================================\n",
            "Total params: 5,521\n",
            "Trainable params: 5,521\n",
            "Non-trainable params: 0\n",
            "_________________________________________________________________\n",
            "Model: \"sequential_68\"\n",
            "_________________________________________________________________\n",
            " Layer (type)                Output Shape              Param #   \n",
            "=================================================================\n",
            " dense_204 (Dense)           (None, 60)                3660      \n",
            "                                                                 \n",
            " dropout_136 (Dropout)       (None, 60)                0         \n",
            "                                                                 \n",
            " dense_205 (Dense)           (None, 30)                1830      \n",
            "                                                                 \n",
            " dropout_137 (Dropout)       (None, 30)                0         \n",
            "                                                                 \n",
            " dense_206 (Dense)           (None, 1)                 31        \n",
            "                                                                 \n",
            "=================================================================\n",
            "Total params: 5,521\n",
            "Trainable params: 5,521\n",
            "Non-trainable params: 0\n",
            "_________________________________________________________________\n",
            "Model: \"sequential_69\"\n",
            "_________________________________________________________________\n",
            " Layer (type)                Output Shape              Param #   \n",
            "=================================================================\n",
            " dense_207 (Dense)           (None, 60)                3660      \n",
            "                                                                 \n",
            " dropout_138 (Dropout)       (None, 60)                0         \n",
            "                                                                 \n",
            " dense_208 (Dense)           (None, 30)                1830      \n",
            "                                                                 \n",
            " dropout_139 (Dropout)       (None, 30)                0         \n",
            "                                                                 \n",
            " dense_209 (Dense)           (None, 1)                 31        \n",
            "                                                                 \n",
            "=================================================================\n",
            "Total params: 5,521\n",
            "Trainable params: 5,521\n",
            "Non-trainable params: 0\n",
            "_________________________________________________________________\n",
            "Hidden: 83.71% (7.07%)\n"
          ]
        }
      ]
    },
    {
      "cell_type": "code",
      "source": [
        ""
      ],
      "metadata": {
        "id": "MHSwjGSmwr_T"
      },
      "execution_count": null,
      "outputs": []
    }
  ]
}