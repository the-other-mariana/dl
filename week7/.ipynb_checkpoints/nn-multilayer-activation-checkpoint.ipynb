{
 "cells": [
  {
   "cell_type": "markdown",
   "metadata": {
    "id": "v2RGwTvmbUg3"
   },
   "source": [
    "## Theano Example"
   ]
  },
  {
   "cell_type": "markdown",
   "metadata": {
    "id": "pZJG70relXGp"
   },
   "source": []
  },
  {
   "cell_type": "code",
   "execution_count": 1,
   "metadata": {
    "colab": {
     "base_uri": "https://localhost:8080/"
    },
    "id": "n5UjWc-plXc5",
    "outputId": "b0b23492-1731-43f6-a519-d6732e6099e3"
   },
   "outputs": [
    {
     "name": "stdout",
     "output_type": "stream",
     "text": [
      "WARNING:tensorflow:From C:\\Users\\mariana\\anaconda3\\lib\\site-packages\\tensorflow\\python\\compat\\v2_compat.py:107: disable_resource_variables (from tensorflow.python.ops.variable_scope) is deprecated and will be removed in a future version.\n",
      "Instructions for updating:\n",
      "non-resource variables are not supported in the long term\n",
      "4.0\n"
     ]
    }
   ],
   "source": [
    "# Example of TensorFlow library\n",
    "import tensorflow as tf\n",
    "import tensorflow.compat.v1 as tf\n",
    "tf.disable_v2_behavior()\n",
    "# declare two symbolic floating-point scalars\n",
    "a = tf.placeholder(tf.float32)\n",
    "b = tf.placeholder(tf.float32)\n",
    "# create a simple symbolic expression using the add function\n",
    "add = tf.add(a, b)\n",
    "# bind 1.5 to 'a', 2.5 to 'b', and evaluate 'c'\n",
    "sess = tf.Session()\n",
    "binding = {a: 1.5, b: 2.5}\n",
    "c = sess.run(add, feed_dict=binding)\n",
    "print(c)"
   ]
  },
  {
   "cell_type": "code",
   "execution_count": 3,
   "metadata": {},
   "outputs": [
    {
     "name": "stdout",
     "output_type": "stream",
     "text": [
      "Collecting Theano\n",
      "  Downloading Theano-1.0.5.tar.gz (2.8 MB)\n",
      "Requirement already satisfied: numpy>=1.9.1 in c:\\users\\mariana\\anaconda3\\lib\\site-packages (from Theano) (1.20.1)\n",
      "Requirement already satisfied: scipy>=0.14 in c:\\users\\mariana\\anaconda3\\lib\\site-packages (from Theano) (1.6.2)\n",
      "Requirement already satisfied: six>=1.9.0 in c:\\users\\mariana\\anaconda3\\lib\\site-packages (from Theano) (1.15.0)\n",
      "Building wheels for collected packages: Theano\n",
      "  Building wheel for Theano (setup.py): started\n",
      "  Building wheel for Theano (setup.py): finished with status 'done'\n",
      "  Created wheel for Theano: filename=Theano-1.0.5-py3-none-any.whl size=2668107 sha256=e8a7700f180f2744452e818546df0a56d24020dcc9dec62420c7c3023bfbd4e8\n",
      "  Stored in directory: c:\\users\\mariana\\appdata\\local\\pip\\cache\\wheels\\84\\cb\\19\\235b5b10d89b4621f685112f8762681570a9fa14dc1ce904d9\n",
      "Successfully built Theano\n",
      "Installing collected packages: Theano\n",
      "Successfully installed Theano-1.0.5\n"
     ]
    }
   ],
   "source": [
    "!pip install Theano"
   ]
  },
  {
   "cell_type": "code",
   "execution_count": 4,
   "metadata": {
    "colab": {
     "base_uri": "https://localhost:8080/"
    },
    "id": "mIlEwxuhbuPV",
    "outputId": "4fef714a-f3ea-423f-dc4a-524d5cb8c159"
   },
   "outputs": [
    {
     "name": "stderr",
     "output_type": "stream",
     "text": [
      "WARNING (theano.configdefaults): g++ not available, if using conda: `conda install m2w64-toolchain`\n",
      "C:\\Users\\mariana\\anaconda3\\lib\\site-packages\\theano\\configdefaults.py:560: UserWarning: DeprecationWarning: there is no c++ compiler.This is deprecated and with Theano 0.11 a c++ compiler will be mandatory\n",
      "  warnings.warn(\"DeprecationWarning: there is no c++ compiler.\"\n",
      "WARNING (theano.configdefaults): g++ not detected ! Theano will be unable to execute optimized C-implementations (for both CPU and GPU) and will default to Python implementations. Performance will be severely degraded. To remove this warning, set Theano flags cxx to an empty string.\n",
      "WARNING (theano.tensor.blas): Using NumPy C-API based implementation for BLAS functions.\n"
     ]
    },
    {
     "name": "stdout",
     "output_type": "stream",
     "text": [
      "4.0\n"
     ]
    }
   ],
   "source": [
    "# Example of Theano library\n",
    "import theano\n",
    "from theano import tensor\n",
    "# declare two symbolic floating-point scalars\n",
    "a = tensor.dscalar()\n",
    "b = tensor.dscalar()\n",
    "# create a simple symbolic expression\n",
    "c = a + b\n",
    "# convert the expression into a callable object that takes (a,b) and computes c\n",
    "f = theano.function([a,b], c)\n",
    "# bind 1.5 to 'a', 2.5 to 'b', and evaluate 'c'\n",
    "result = f(1.5, 2.5)\n",
    "print(result)\n"
   ]
  },
  {
   "cell_type": "markdown",
   "metadata": {
    "id": "DRJu1wxvX3Y5"
   },
   "source": [
    "## Defining, Training and Testing The Model"
   ]
  },
  {
   "cell_type": "code",
   "execution_count": 6,
   "metadata": {
    "colab": {
     "base_uri": "https://localhost:8080/",
     "height": 436
    },
    "id": "u72nGL_IpT7J",
    "outputId": "1255220a-6212-43b5-de02-3c153ba3b488"
   },
   "outputs": [
    {
     "name": "stdout",
     "output_type": "stream",
     "text": [
      "Train on 768 samples\n",
      "Epoch 1/50\n",
      "768/768 [==============================] - 1s 2ms/sample - loss: 10.7769 - acc: 0.4661\n",
      "Epoch 2/50\n",
      "768/768 [==============================] - 0s 56us/sample - loss: 2.9727 - acc: 0.6016\n",
      "Epoch 3/50\n",
      "768/768 [==============================] - 0s 37us/sample - loss: 2.0604 - acc: 0.5703\n",
      "Epoch 4/50\n",
      "768/768 [==============================] - 0s 38us/sample - loss: 2.0346 - acc: 0.5716\n",
      "Epoch 5/50\n",
      "768/768 [==============================] - 0s 37us/sample - loss: 1.7762 - acc: 0.5924\n",
      "Epoch 6/50\n",
      "768/768 [==============================] - 0s 37us/sample - loss: 1.6816 - acc: 0.5794\n",
      "Epoch 7/50\n",
      "768/768 [==============================] - 0s 36us/sample - loss: 1.5143 - acc: 0.5794\n",
      "Epoch 8/50\n",
      "768/768 [==============================] - 0s 36us/sample - loss: 1.4124 - acc: 0.5820\n",
      "Epoch 9/50\n",
      "768/768 [==============================] - 0s 36us/sample - loss: 1.3132 - acc: 0.5885\n",
      "Epoch 10/50\n",
      "768/768 [==============================] - 0s 36us/sample - loss: 1.1818 - acc: 0.5794\n",
      "Epoch 11/50\n",
      "768/768 [==============================] - 0s 39us/sample - loss: 1.1014 - acc: 0.6029\n",
      "Epoch 12/50\n",
      "768/768 [==============================] - 0s 36us/sample - loss: 1.0802 - acc: 0.5964\n",
      "Epoch 13/50\n",
      "768/768 [==============================] - 0s 33us/sample - loss: 0.9102 - acc: 0.6276\n",
      "Epoch 14/50\n",
      "768/768 [==============================] - 0s 35us/sample - loss: 0.8666 - acc: 0.6198\n",
      "Epoch 15/50\n",
      "768/768 [==============================] - 0s 38us/sample - loss: 0.8186 - acc: 0.6120\n",
      "Epoch 16/50\n",
      "768/768 [==============================] - 0s 36us/sample - loss: 0.7819 - acc: 0.6159\n",
      "Epoch 17/50\n",
      "768/768 [==============================] - 0s 36us/sample - loss: 0.8356 - acc: 0.6198\n",
      "Epoch 18/50\n",
      "768/768 [==============================] - 0s 35us/sample - loss: 0.7985 - acc: 0.6354\n",
      "Epoch 19/50\n",
      "768/768 [==============================] - 0s 39us/sample - loss: 0.7250 - acc: 0.6549\n",
      "Epoch 20/50\n",
      "768/768 [==============================] - 0s 34us/sample - loss: 0.7079 - acc: 0.6510\n",
      "Epoch 21/50\n",
      "768/768 [==============================] - 0s 36us/sample - loss: 0.6947 - acc: 0.6706\n",
      "Epoch 22/50\n",
      "768/768 [==============================] - 0s 34us/sample - loss: 0.6926 - acc: 0.6784\n",
      "Epoch 23/50\n",
      "768/768 [==============================] - 0s 32us/sample - loss: 0.6951 - acc: 0.6589\n",
      "Epoch 24/50\n",
      "768/768 [==============================] - 0s 34us/sample - loss: 0.7084 - acc: 0.6589\n",
      "Epoch 25/50\n",
      "768/768 [==============================] - 0s 35us/sample - loss: 0.6967 - acc: 0.6419\n",
      "Epoch 26/50\n",
      "768/768 [==============================] - 0s 34us/sample - loss: 0.7138 - acc: 0.6797\n",
      "Epoch 27/50\n",
      "768/768 [==============================] - 0s 35us/sample - loss: 0.6548 - acc: 0.6823\n",
      "Epoch 28/50\n",
      "768/768 [==============================] - 0s 33us/sample - loss: 0.6544 - acc: 0.6758\n",
      "Epoch 29/50\n",
      "768/768 [==============================] - 0s 34us/sample - loss: 0.6513 - acc: 0.6823\n",
      "Epoch 30/50\n",
      "768/768 [==============================] - 0s 34us/sample - loss: 0.6784 - acc: 0.6784\n",
      "Epoch 31/50\n",
      "768/768 [==============================] - 0s 35us/sample - loss: 0.6457 - acc: 0.6849\n",
      "Epoch 32/50\n",
      "768/768 [==============================] - 0s 35us/sample - loss: 0.6576 - acc: 0.6914\n",
      "Epoch 33/50\n",
      "768/768 [==============================] - 0s 32us/sample - loss: 0.6447 - acc: 0.6927\n",
      "Epoch 34/50\n",
      "768/768 [==============================] - 0s 38us/sample - loss: 0.6438 - acc: 0.6914\n",
      "Epoch 35/50\n",
      "768/768 [==============================] - 0s 37us/sample - loss: 0.6448 - acc: 0.6654\n",
      "Epoch 36/50\n",
      "768/768 [==============================] - 0s 38us/sample - loss: 0.6409 - acc: 0.6849\n",
      "Epoch 37/50\n",
      "768/768 [==============================] - 0s 40us/sample - loss: 0.6285 - acc: 0.6914\n",
      "Epoch 38/50\n",
      "768/768 [==============================] - 0s 39us/sample - loss: 0.6354 - acc: 0.6771\n",
      "Epoch 39/50\n",
      "768/768 [==============================] - 0s 32us/sample - loss: 0.6397 - acc: 0.6862\n",
      "Epoch 40/50\n",
      "768/768 [==============================] - 0s 34us/sample - loss: 0.6206 - acc: 0.7005\n",
      "Epoch 41/50\n",
      "768/768 [==============================] - 0s 31us/sample - loss: 0.6125 - acc: 0.7005\n",
      "Epoch 42/50\n",
      "768/768 [==============================] - 0s 32us/sample - loss: 0.6246 - acc: 0.6888\n",
      "Epoch 43/50\n",
      "768/768 [==============================] - 0s 34us/sample - loss: 0.6078 - acc: 0.6992\n",
      "Epoch 44/50\n",
      "768/768 [==============================] - 0s 35us/sample - loss: 0.6118 - acc: 0.6992\n",
      "Epoch 45/50\n",
      "768/768 [==============================] - 0s 36us/sample - loss: 0.6631 - acc: 0.6654\n",
      "Epoch 46/50\n",
      "768/768 [==============================] - 0s 34us/sample - loss: 0.6116 - acc: 0.6875\n",
      "Epoch 47/50\n",
      "768/768 [==============================] - 0s 34us/sample - loss: 0.6174 - acc: 0.6836\n",
      "Epoch 48/50\n",
      "768/768 [==============================] - 0s 34us/sample - loss: 0.6053 - acc: 0.6901\n",
      "Epoch 49/50\n",
      "768/768 [==============================] - 0s 35us/sample - loss: 0.5923 - acc: 0.7109\n",
      "Epoch 50/50\n",
      "768/768 [==============================] - 0s 36us/sample - loss: 0.6021 - acc: 0.7135\n",
      "Accuracy: 71.74\n"
     ]
    },
    {
     "name": "stderr",
     "output_type": "stream",
     "text": [
      "C:\\Users\\mariana\\anaconda3\\lib\\site-packages\\keras\\engine\\training_v1.py:2057: UserWarning: `Model.state_updates` will be removed in a future version. This property should not be used in TensorFlow 2.0, as `updates` are applied automatically.\n",
      "  updates = self.state_updates\n"
     ]
    }
   ],
   "source": [
    "# first neural network with keras tutorial\n",
    "from numpy import loadtxt\n",
    "from keras.models import Sequential\n",
    "from keras.layers import Dense\n",
    "\n",
    "\n",
    "\n",
    "# load the dataset\n",
    "dataset = loadtxt(\"pima-indians-diabetes.csv\", delimiter=',')\n",
    "\n",
    "\n",
    "# split into input (X) and output (y) variables\n",
    "X = dataset[:,0:8]\n",
    "y = dataset[:,8]\n",
    "# define the keras model\n",
    "model = Sequential()\n",
    "model.add(Dense(12, input_dim=8, activation='relu')) # Dense all neurons connected with others, Dense (vector output size, input size, activation function )\n",
    "model.add(Dense(8, activation='relu'))\n",
    "model.add(Dense(1, activation='sigmoid'))\n",
    "# compile the keras model\n",
    "model.compile(loss='binary_crossentropy', optimizer='adam', metrics=['accuracy'])\n",
    "# fit the keras model on the dataset\n",
    "model.fit(X, y, epochs=50, batch_size=30) # batch is the number of samples inputs used before to compute the error\n",
    "# evaluate the keras model\n",
    "_, accuracy = model.evaluate(X, y)\n",
    "print('Accuracy: %.2f' % (accuracy*100))"
   ]
  },
  {
   "cell_type": "markdown",
   "metadata": {
    "id": "jMpVHeoGW1Pq"
   },
   "source": [
    "## Using The Adjusted Model To Make Predictions"
   ]
  },
  {
   "cell_type": "code",
   "execution_count": 7,
   "metadata": {
    "colab": {
     "base_uri": "https://localhost:8080/"
    },
    "id": "ZGDXxfCZW4fy",
    "outputId": "43c7fcb7-cbc8-4e14-f228-b33434e6bda4"
   },
   "outputs": [
    {
     "name": "stdout",
     "output_type": "stream",
     "text": [
      "[6.0, 148.0, 72.0, 35.0, 0.0, 33.6, 0.627, 50.0] => 0 (expected 1)\n",
      "[1.0, 85.0, 66.0, 29.0, 0.0, 26.6, 0.351, 31.0] => 0 (expected 0)\n",
      "[8.0, 183.0, 64.0, 0.0, 0.0, 23.3, 0.672, 32.0] => 0 (expected 1)\n",
      "[1.0, 89.0, 66.0, 23.0, 94.0, 28.1, 0.167, 21.0] => 0 (expected 0)\n",
      "[0.0, 137.0, 40.0, 35.0, 168.0, 43.1, 2.288, 33.0] => 0 (expected 1)\n",
      "[5.0, 116.0, 74.0, 0.0, 0.0, 25.6, 0.201, 30.0] => 0 (expected 0)\n",
      "[3.0, 78.0, 50.0, 32.0, 88.0, 31.0, 0.248, 26.0] => 0 (expected 1)\n",
      "[10.0, 115.0, 0.0, 0.0, 0.0, 35.3, 0.134, 29.0] => 0 (expected 0)\n",
      "[2.0, 197.0, 70.0, 45.0, 543.0, 30.5, 0.158, 53.0] => 0 (expected 1)\n",
      "[8.0, 125.0, 96.0, 0.0, 0.0, 0.0, 0.232, 54.0] => 0 (expected 1)\n",
      "[4.0, 110.0, 92.0, 0.0, 0.0, 37.6, 0.191, 30.0] => 0 (expected 0)\n",
      "[10.0, 168.0, 74.0, 0.0, 0.0, 38.0, 0.537, 34.0] => 0 (expected 1)\n",
      "[10.0, 139.0, 80.0, 0.0, 0.0, 27.1, 1.441, 57.0] => 0 (expected 0)\n",
      "[1.0, 189.0, 60.0, 23.0, 846.0, 30.1, 0.398, 59.0] => 0 (expected 1)\n",
      "[5.0, 166.0, 72.0, 19.0, 175.0, 25.8, 0.587, 51.0] => 0 (expected 1)\n"
     ]
    },
    {
     "name": "stderr",
     "output_type": "stream",
     "text": [
      "C:\\Users\\mariana\\anaconda3\\lib\\site-packages\\keras\\engine\\training_v1.py:2079: UserWarning: `Model.state_updates` will be removed in a future version. This property should not be used in TensorFlow 2.0, as `updates` are applied automatically.\n",
      "  updates=self.state_updates,\n"
     ]
    }
   ],
   "source": [
    "\n",
    "\n",
    "# make class predictions with the model\n",
    "predictions = model.predict(X)\n",
    "# summarize the first 5 cases\n",
    "for i in range(15):\n",
    "  print('%s => %d (expected %d)' % (X[i].tolist(), predictions[i], y[i]))"
   ]
  },
  {
   "cell_type": "code",
   "execution_count": null,
   "metadata": {},
   "outputs": [],
   "source": []
  }
 ],
 "metadata": {
  "colab": {
   "name": "Copia de NNMultiLayer.ipynb",
   "provenance": []
  },
  "kernelspec": {
   "display_name": "Python 3",
   "language": "python",
   "name": "python3"
  },
  "language_info": {
   "codemirror_mode": {
    "name": "ipython",
    "version": 3
   },
   "file_extension": ".py",
   "mimetype": "text/x-python",
   "name": "python",
   "nbconvert_exporter": "python",
   "pygments_lexer": "ipython3",
   "version": "3.8.8"
  }
 },
 "nbformat": 4,
 "nbformat_minor": 1
}
